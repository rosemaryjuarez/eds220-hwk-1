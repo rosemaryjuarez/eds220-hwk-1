{
 "cells": [
  {
   "cell_type": "markdown",
   "metadata": {},
   "source": [
    "# Task 4\n",
    "\n",
    "First, update the following cell to have a link to your Homework 1 GitHub repository:\n",
    "\n",
    "UPDATE THIS LINK:\n",
    "\n",
    "https://github.com/rosemaryjuarez/eds220-hwk-1\n",
    "\n",
    "In this task, make at least 5 commits at moments you think are adequate. We'll look at your repo to check commit history. Err on the side of commenting too much for now to get in the habit.\n",
    "\n",
    "Add comments for all your code. Err on the side of commenting too much for now.\n",
    "\n",
    "Comments in each exercise and commits will count towards your grade.\n",
    "\n",
    "This task covers topics we will see on Wednesday Oct. 11. You might want to wait until after that class to solve it.\n",
    "\n",
    "## Acknowledgement\n",
    "This task was adapted from the *Pandas Fundamentals with Earthquake Data* assignment from the e-book [Earth and Environmental Data Science](https://earth-env-data-science.github.io/intro.html)"
   ]
  },
  {
   "cell_type": "markdown",
   "metadata": {},
   "source": [
    "## About the data\n",
    "\n",
    "For this task we are going to use simplified data from the [USGS Earthquakes Database](https://earthquake.usgs.gov/earthquakes/search/). This dataset is in tabular format and has the following columns:\n",
    "\n",
    "- time = date and time of event (all events from 2014)\n",
    "- latitude = decimal degrees [-90,90]\n",
    "- longitude = decimal degrees [-360,360]\n",
    "- depth = depth of the event (km)\n",
    "- mag =  magnitude of event\n",
    "- id = event identifier\n",
    "- place = where the event took place\n",
    "- type = type of event\n",
    "\n",
    "## 1 \n",
    "\n",
    "a. Import pandas (always with standard abbreviation!).\n",
    "\n",
    "b. Use `pd.read_csv()` to import the `earthquake_data.csv` dataset and store it as `raw_eqk` (variable name).\n",
    "\n",
    "c. Look at the head of the dataframe."
   ]
  },
  {
   "cell_type": "code",
   "execution_count": 1,
   "metadata": {
    "tags": [],
    "vscode": {
     "languageId": "python"
    }
   },
   "outputs": [],
   "source": [
    "import pandas as pd"
   ]
  },
  {
   "cell_type": "code",
   "execution_count": 6,
   "metadata": {
    "tags": []
   },
   "outputs": [],
   "source": [
    "raw_eqk = pd.read_csv('~/eds-220/eds-220-hw/eds220-hwk-1/query.csv')# read in csv\n",
    "pd.set_option('display.max_columns', None) # display all columns"
   ]
  },
  {
   "cell_type": "code",
   "execution_count": 7,
   "metadata": {
    "tags": []
   },
   "outputs": [
    {
     "data": {
      "text/html": [
       "<div>\n",
       "<style scoped>\n",
       "    .dataframe tbody tr th:only-of-type {\n",
       "        vertical-align: middle;\n",
       "    }\n",
       "\n",
       "    .dataframe tbody tr th {\n",
       "        vertical-align: top;\n",
       "    }\n",
       "\n",
       "    .dataframe thead th {\n",
       "        text-align: right;\n",
       "    }\n",
       "</style>\n",
       "<table border=\"1\" class=\"dataframe\">\n",
       "  <thead>\n",
       "    <tr style=\"text-align: right;\">\n",
       "      <th></th>\n",
       "      <th>time</th>\n",
       "      <th>latitude</th>\n",
       "      <th>longitude</th>\n",
       "      <th>depth</th>\n",
       "      <th>mag</th>\n",
       "      <th>magType</th>\n",
       "      <th>nst</th>\n",
       "      <th>gap</th>\n",
       "      <th>dmin</th>\n",
       "      <th>rms</th>\n",
       "      <th>net</th>\n",
       "      <th>id</th>\n",
       "      <th>updated</th>\n",
       "      <th>place</th>\n",
       "      <th>type</th>\n",
       "      <th>horizontalError</th>\n",
       "      <th>depthError</th>\n",
       "      <th>magError</th>\n",
       "      <th>magNst</th>\n",
       "      <th>status</th>\n",
       "      <th>locationSource</th>\n",
       "      <th>magSource</th>\n",
       "    </tr>\n",
       "  </thead>\n",
       "  <tbody>\n",
       "    <tr>\n",
       "      <th>0</th>\n",
       "      <td>2023-10-14T05:25:03.079Z</td>\n",
       "      <td>-60.4998</td>\n",
       "      <td>-25.6471</td>\n",
       "      <td>10.000</td>\n",
       "      <td>4.8</td>\n",
       "      <td>mb</td>\n",
       "      <td>38.0</td>\n",
       "      <td>95.0</td>\n",
       "      <td>17.705</td>\n",
       "      <td>0.63</td>\n",
       "      <td>us</td>\n",
       "      <td>us6000lfhc</td>\n",
       "      <td>2023-10-14T05:38:59.040Z</td>\n",
       "      <td>South Sandwich Islands region</td>\n",
       "      <td>earthquake</td>\n",
       "      <td>5.17</td>\n",
       "      <td>1.911</td>\n",
       "      <td>0.090</td>\n",
       "      <td>38.0</td>\n",
       "      <td>reviewed</td>\n",
       "      <td>us</td>\n",
       "      <td>us</td>\n",
       "    </tr>\n",
       "    <tr>\n",
       "      <th>1</th>\n",
       "      <td>2023-10-14T04:33:13.692Z</td>\n",
       "      <td>32.6693</td>\n",
       "      <td>140.8365</td>\n",
       "      <td>56.954</td>\n",
       "      <td>4.8</td>\n",
       "      <td>mb</td>\n",
       "      <td>55.0</td>\n",
       "      <td>135.0</td>\n",
       "      <td>0.969</td>\n",
       "      <td>0.68</td>\n",
       "      <td>us</td>\n",
       "      <td>us6000lfh9</td>\n",
       "      <td>2023-10-14T05:00:47.040Z</td>\n",
       "      <td>271 km SSE of Tateyama, Japan</td>\n",
       "      <td>earthquake</td>\n",
       "      <td>3.73</td>\n",
       "      <td>6.631</td>\n",
       "      <td>0.044</td>\n",
       "      <td>158.0</td>\n",
       "      <td>reviewed</td>\n",
       "      <td>us</td>\n",
       "      <td>us</td>\n",
       "    </tr>\n",
       "    <tr>\n",
       "      <th>2</th>\n",
       "      <td>2023-10-14T04:20:10.434Z</td>\n",
       "      <td>34.4350</td>\n",
       "      <td>24.2608</td>\n",
       "      <td>10.000</td>\n",
       "      <td>4.1</td>\n",
       "      <td>mb</td>\n",
       "      <td>29.0</td>\n",
       "      <td>184.0</td>\n",
       "      <td>0.996</td>\n",
       "      <td>1.21</td>\n",
       "      <td>us</td>\n",
       "      <td>us6000lfh7</td>\n",
       "      <td>2023-10-14T05:09:51.040Z</td>\n",
       "      <td>47 km SSE of Kastrí, Greece</td>\n",
       "      <td>earthquake</td>\n",
       "      <td>7.24</td>\n",
       "      <td>1.937</td>\n",
       "      <td>0.174</td>\n",
       "      <td>11.0</td>\n",
       "      <td>reviewed</td>\n",
       "      <td>us</td>\n",
       "      <td>us</td>\n",
       "    </tr>\n",
       "    <tr>\n",
       "      <th>3</th>\n",
       "      <td>2023-10-14T03:51:30.558Z</td>\n",
       "      <td>17.6164</td>\n",
       "      <td>-68.1956</td>\n",
       "      <td>10.000</td>\n",
       "      <td>3.2</td>\n",
       "      <td>ml</td>\n",
       "      <td>16.0</td>\n",
       "      <td>217.0</td>\n",
       "      <td>0.523</td>\n",
       "      <td>0.61</td>\n",
       "      <td>us</td>\n",
       "      <td>us6000lfh6</td>\n",
       "      <td>2023-10-14T04:02:17.040Z</td>\n",
       "      <td>95 km SSE of Boca de Yuma, Dominican Republic</td>\n",
       "      <td>earthquake</td>\n",
       "      <td>4.82</td>\n",
       "      <td>1.999</td>\n",
       "      <td>0.064</td>\n",
       "      <td>32.0</td>\n",
       "      <td>reviewed</td>\n",
       "      <td>us</td>\n",
       "      <td>us</td>\n",
       "    </tr>\n",
       "    <tr>\n",
       "      <th>4</th>\n",
       "      <td>2023-10-14T02:44:04.353Z</td>\n",
       "      <td>63.7253</td>\n",
       "      <td>-145.0455</td>\n",
       "      <td>22.900</td>\n",
       "      <td>2.8</td>\n",
       "      <td>ml</td>\n",
       "      <td>NaN</td>\n",
       "      <td>NaN</td>\n",
       "      <td>NaN</td>\n",
       "      <td>0.92</td>\n",
       "      <td>ak</td>\n",
       "      <td>ak023d6oows3</td>\n",
       "      <td>2023-10-14T02:46:46.263Z</td>\n",
       "      <td>Central Alaska</td>\n",
       "      <td>earthquake</td>\n",
       "      <td>NaN</td>\n",
       "      <td>0.200</td>\n",
       "      <td>NaN</td>\n",
       "      <td>NaN</td>\n",
       "      <td>automatic</td>\n",
       "      <td>ak</td>\n",
       "      <td>ak</td>\n",
       "    </tr>\n",
       "  </tbody>\n",
       "</table>\n",
       "</div>"
      ],
      "text/plain": [
       "                       time  latitude  longitude   depth  mag magType   nst  \\\n",
       "0  2023-10-14T05:25:03.079Z  -60.4998   -25.6471  10.000  4.8      mb  38.0   \n",
       "1  2023-10-14T04:33:13.692Z   32.6693   140.8365  56.954  4.8      mb  55.0   \n",
       "2  2023-10-14T04:20:10.434Z   34.4350    24.2608  10.000  4.1      mb  29.0   \n",
       "3  2023-10-14T03:51:30.558Z   17.6164   -68.1956  10.000  3.2      ml  16.0   \n",
       "4  2023-10-14T02:44:04.353Z   63.7253  -145.0455  22.900  2.8      ml   NaN   \n",
       "\n",
       "     gap    dmin   rms net            id                   updated  \\\n",
       "0   95.0  17.705  0.63  us    us6000lfhc  2023-10-14T05:38:59.040Z   \n",
       "1  135.0   0.969  0.68  us    us6000lfh9  2023-10-14T05:00:47.040Z   \n",
       "2  184.0   0.996  1.21  us    us6000lfh7  2023-10-14T05:09:51.040Z   \n",
       "3  217.0   0.523  0.61  us    us6000lfh6  2023-10-14T04:02:17.040Z   \n",
       "4    NaN     NaN  0.92  ak  ak023d6oows3  2023-10-14T02:46:46.263Z   \n",
       "\n",
       "                                           place        type  horizontalError  \\\n",
       "0                  South Sandwich Islands region  earthquake             5.17   \n",
       "1                  271 km SSE of Tateyama, Japan  earthquake             3.73   \n",
       "2                    47 km SSE of Kastrí, Greece  earthquake             7.24   \n",
       "3  95 km SSE of Boca de Yuma, Dominican Republic  earthquake             4.82   \n",
       "4                                 Central Alaska  earthquake              NaN   \n",
       "\n",
       "   depthError  magError  magNst     status locationSource magSource  \n",
       "0       1.911     0.090    38.0   reviewed             us        us  \n",
       "1       6.631     0.044   158.0   reviewed             us        us  \n",
       "2       1.937     0.174    11.0   reviewed             us        us  \n",
       "3       1.999     0.064    32.0   reviewed             us        us  \n",
       "4       0.200       NaN     NaN  automatic             ak        ak  "
      ]
     },
     "execution_count": 7,
     "metadata": {},
     "output_type": "execute_result"
    }
   ],
   "source": [
    "raw_eqk.head() # looking at head"
   ]
  },
  {
   "cell_type": "markdown",
   "metadata": {},
   "source": [
    "## 2\n",
    "a. Print the shape of the `raw_eqk` dataframe.\n",
    "\n",
    "b. Print the type of `raw_eqk`'s shape.\n",
    "\n",
    "c. Print *only* the number of rows by accessing it from `raw_eqk`'s shape. HINT: how do you index an element in a tuple?"
   ]
  },
  {
   "cell_type": "code",
   "execution_count": 9,
   "metadata": {
    "tags": [],
    "vscode": {
     "languageId": "python"
    }
   },
   "outputs": [
    {
     "data": {
      "text/plain": [
       "(326, 22)"
      ]
     },
     "execution_count": 9,
     "metadata": {},
     "output_type": "execute_result"
    }
   ],
   "source": [
    "raw_eqk.shape # question 1"
   ]
  },
  {
   "cell_type": "code",
   "execution_count": 10,
   "metadata": {
    "tags": []
   },
   "outputs": [
    {
     "data": {
      "text/plain": [
       "tuple"
      ]
     },
     "execution_count": 10,
     "metadata": {},
     "output_type": "execute_result"
    }
   ],
   "source": [
    "type(raw_eqk.shape) # question 2"
   ]
  },
  {
   "cell_type": "code",
   "execution_count": 11,
   "metadata": {
    "tags": []
   },
   "outputs": [
    {
     "data": {
      "text/plain": [
       "326"
      ]
     },
     "execution_count": 11,
     "metadata": {},
     "output_type": "execute_result"
    }
   ],
   "source": [
    "raw_eqk.shape[0] # question 3"
   ]
  },
  {
   "cell_type": "markdown",
   "metadata": {},
   "source": [
    "## 3\n",
    "\n",
    "Get the unique values of the type of events."
   ]
  },
  {
   "cell_type": "code",
   "execution_count": 16,
   "metadata": {
    "tags": [],
    "vscode": {
     "languageId": "python"
    }
   },
   "outputs": [
    {
     "data": {
      "text/plain": [
       "array(['earthquake', 'ice quake'], dtype=object)"
      ]
     },
     "execution_count": 16,
     "metadata": {},
     "output_type": "execute_result"
    }
   ],
   "source": [
    "raw_eqk.type.unique() # there are two unique types of event: earthquake and ice queake.\n",
    "# never heard of ice quake\n",
    "\n",
    "# commit time"
   ]
  },
  {
   "cell_type": "markdown",
   "metadata": {},
   "source": [
    "# 4\n",
    "\n",
    "a. Select only earthquake events and store them as `eqk` (variable name)\n",
    "\n",
    "b. Update the index of `eqk` to be the `id` column of the dataframe. \n",
    "\n",
    "c. Check the new index by viewing the first 3 rows of `eqk`."
   ]
  },
  {
   "cell_type": "code",
   "execution_count": 4,
   "metadata": {
    "vscode": {
     "languageId": "python"
    }
   },
   "outputs": [],
   "source": [
    "# solve exercise here"
   ]
  },
  {
   "cell_type": "markdown",
   "metadata": {},
   "source": [
    "# 5\n",
    "\n",
    "How many events were left out of `raw_eqk` when you selected ony earthqake events? \n",
    "\n",
    "HINT: There are *many* ways you can get this information. One could be to use (2)."
   ]
  },
  {
   "cell_type": "code",
   "execution_count": 5,
   "metadata": {
    "vscode": {
     "languageId": "python"
    }
   },
   "outputs": [],
   "source": [
    "# solve exercise here"
   ]
  },
  {
   "cell_type": "markdown",
   "metadata": {},
   "source": [
    "# 6\n",
    "Without creating any new variables, plot a histogram of the eartquake's magnitudes (`eqk` data). Add a title and change the color of your graph."
   ]
  },
  {
   "cell_type": "code",
   "execution_count": 6,
   "metadata": {
    "vscode": {
     "languageId": "python"
    }
   },
   "outputs": [],
   "source": [
    "# solve exercise here"
   ]
  },
  {
   "cell_type": "markdown",
   "metadata": {},
   "source": [
    "# 7\n",
    "\n",
    "a. Create a new variable `top20` with the 20 earthquakes with largest magnitude. HINT: [`pandas.Series.nlargest`](https://pandas.pydata.org/docs/reference/api/pandas.Series.nlargest.html)\n",
    "\n",
    "b. Create a bar plot showing the magnitude of the top 20 earthquakes. Update the title, x-axis label, y-axis label, and color of the bars. \n",
    "\n",
    "c. What is the role of the `top20` index in the graph? What would have happened if we had not updated the index?"
   ]
  },
  {
   "cell_type": "code",
   "execution_count": 7,
   "metadata": {
    "vscode": {
     "languageId": "python"
    }
   },
   "outputs": [],
   "source": [
    "# solve exercise here"
   ]
  },
  {
   "cell_type": "markdown",
   "metadata": {},
   "source": [
    "*Write your answer for 7c here*"
   ]
  },
  {
   "cell_type": "markdown",
   "metadata": {},
   "source": [
    "# 8 \n",
    "We are interested in place, magnitude and depth of the top 20 earthquakes with largest magnitude. Select this data from the `eqk` data frame.\n",
    "\n",
    "HINT: This is a \"select rows and columns simultaneously\" from `eqk` exercise. To select the rows you could use the index of `top20`."
   ]
  },
  {
   "cell_type": "code",
   "execution_count": 8,
   "metadata": {
    "vscode": {
     "languageId": "python"
    }
   },
   "outputs": [],
   "source": [
    "# solve exercise here"
   ]
  },
  {
   "cell_type": "markdown",
   "metadata": {},
   "source": [
    "# 9 \n",
    "\n",
    "Without creating any new variables, visualize the locations of eartquakes with magnitude greter than 5 by creating a scatter plot of their latitude and longitude. Make the following adjustments to the basic plot:\n",
    "- update the title\n",
    "- color the points by magnitude (HINT: [check the `c` parameter here](https://pandas.pydata.org/pandas-docs/stable/reference/api/pandas.DataFrame.plot.scatter.html))\n",
    "- adjust the `alpha` (transparency) argument\n",
    "- adjust the `colormap` argument to maket it look prettier. [Click for ideas of sequential colormaps.](https://matplotlib.org/stable/users/explain/colors/colormaps.html)\n"
   ]
  },
  {
   "cell_type": "code",
   "execution_count": 9,
   "metadata": {
    "vscode": {
     "languageId": "python"
    }
   },
   "outputs": [],
   "source": [
    "# solve exercise here"
   ]
  }
 ],
 "metadata": {
  "kernelspec": {
   "display_name": "Anaconda 3 (Base)",
   "language": "python",
   "name": "base"
  },
  "language_info": {
   "codemirror_mode": {
    "name": "ipython",
    "version": 3
   },
   "file_extension": ".py",
   "mimetype": "text/x-python",
   "name": "python",
   "nbconvert_exporter": "python",
   "pygments_lexer": "ipython3",
   "version": "3.9.13"
  }
 },
 "nbformat": 4,
 "nbformat_minor": 4
}
